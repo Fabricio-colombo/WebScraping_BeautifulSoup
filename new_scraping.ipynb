{
 "cells": [
  {
   "cell_type": "markdown",
   "metadata": {},
   "source": [
    "# Projeto de Extração de Dados de Criptomoedas\n",
    "\n",
    "Neste projeto, utilizamos a biblioteca BeautifulSoup para realizar a extração de informações sobre a cotação atual de diversas criptomoedas no site [Investing.com - Criptomoedas](https://br.investing.com/crypto/). A seguir, detalhamos as etapas do projeto:\n",
    "\n",
    "## Etapas do Projeto\n",
    "\n",
    "1. **Acesso ao Site e Extração de Dados:**\n",
    "   - Utilizamos o BeautifulSoup para acessar o conteúdo do [site de Criptomoedas](https://br.investing.com/crypto/) e navegamos até a tabela que continha as informações desejadas.\n",
    "\n",
    "2. **Loop de Coleta de Dados:**\n",
    "   - Implementamos um loop para percorrer as linhas da tabela, extraindo os valores referentes às criptomoedas.\n",
    "\n",
    "3. **Criação do Arquivo CSV:**\n",
    "   - Com os dados coletados, criamos um arquivo CSV denominado \"criptomoedas.csv\".\n",
    "\n",
    "4. **Importação e Apresentação dos Resultados com Pandas:**\n",
    "   - Utilizamos a biblioteca Pandas para importar o arquivo CSV e apresentar os resultados de forma tabular.\n",
    "\n",
    "## Resultados Finais\n",
    "\n",
    "O resultado final foi um DataFrame que exibiu as criptomoedas e suas cotações atuais:\n",
    "\n",
    "```plaintext\n",
    " Moeda     Valor\n",
    "0    BTC  39.000,7\n",
    "1    ETH  2.234,68\n",
    "2   USDT    0,9999\n",
    "3    BNB     297,2\n",
    "4    SOL     80,12\n",
    "5    XRP    0,5083\n",
    "6   USDC    1,0008\n",
    "7  stETH  2.224,49\n",
    "8    ADA    0,4598\n",
    "9   DOGE  0,077209\n"
   ]
  },
  {
   "cell_type": "code",
   "execution_count": 44,
   "metadata": {},
   "outputs": [],
   "source": [
    "#vamos fazer um projeto de web scraping com BeautifulSoup4. Vamos entrar no site (https://br.investing.com/crypto/)\n",
    "#coletar todas as informações de criptomoedas e depois somente das moedas, bitcoin, ethereum, dogecoin.\n",
    "import requests\n",
    "from bs4 import BeautifulSoup\n",
    "\n",
    "link = 'https://br.investing.com/crypto/'\n",
    "requisicao = requests.get(link)\n",
    "site = BeautifulSoup(requisicao.text, 'html.parser')"
   ]
  },
  {
   "cell_type": "code",
   "execution_count": 45,
   "metadata": {},
   "outputs": [
    {
     "name": "stdout",
     "output_type": "stream",
     "text": [
      "Cotação: Bitcoin\n",
      "Cotação: 39.000,7\n",
      "Cotação: Ethereum\n",
      "Cotação: 2.234,68\n",
      "Cotação: Tether USDt\n",
      "Cotação: 0,9999\n",
      "Cotação: BNB\n",
      "Cotação: 297,2\n",
      "Cotação: Solana\n",
      "Cotação: 80,12\n",
      "Cotação: XRP\n",
      "Cotação: 0,5083\n",
      "Cotação: USDC\n",
      "Cotação: 1,0008\n",
      "Cotação: Lido Staked ETH\n",
      "Cotação: 2.224,49\n",
      "Cotação: Cardano\n",
      "Cotação: 0,4598\n",
      "Cotação: Dogecoin\n",
      "Cotação: 0,077209\n"
     ]
    }
   ],
   "source": [
    "#vamos pegar pelo corpo da tabela, que é a tag tbody. Dentro dela vamos pegar todos os valores nela.\n",
    "#vamos usar um laço de repetição para pegar todos os valores da tabela.\n",
    "\n",
    "tbody = site.find('tbody')\n",
    "linhas = tbody.find_all('a')\n",
    "\n",
    "for linha in linhas:\n",
    "    text = linha.text\n",
    "    print(f'Cotação: {text}')"
   ]
  },
  {
   "cell_type": "code",
   "execution_count": 46,
   "metadata": {},
   "outputs": [
    {
     "name": "stdout",
     "output_type": "stream",
     "text": [
      "Dados foram salvos em criptomoedas.csv\n"
     ]
    }
   ],
   "source": [
    "#vamos pegar toda a tabela coletada pelo laço de repetição e colocar dentro de um arquivo csv.\n",
    "#vamos criar um arquivo csv e colocar os valores dentro dele.\n",
    "\n",
    "import csv\n",
    "\n",
    "# Seu código para obter os dados\n",
    "tbody = site.find('tbody')\n",
    "linhas = tbody.find_all('tr')  # Certifique-se de pegar as linhas da tabela (tag 'tr')\n",
    "\n",
    "# Caminho do arquivo CSV\n",
    "caminho_arquivo_csv = 'criptomoedas.csv'\n",
    "\n",
    "# Escrever os dados no arquivo CSV\n",
    "with open(caminho_arquivo_csv, 'w', newline='', encoding='utf-8') as arquivo_csv:\n",
    "    escritor_csv = csv.writer(arquivo_csv)\n",
    "    \n",
    "    # Escrever cabeçalho\n",
    "    escritor_csv.writerow(['Moeda', 'Valor'])\n",
    "\n",
    "    # Escrever os dados\n",
    "    for linha in linhas:\n",
    "        colunas = linha.find_all(['th', 'td'])  # Certifique-se de pegar as colunas (tag 'th' para cabeçalhos e 'td' para dados)\n",
    "        valores = [coluna.text.strip() for coluna in colunas]\n",
    "        escritor_csv.writerow(valores)\n",
    "\n",
    "print(f'Dados foram salvos em {caminho_arquivo_csv}')"
   ]
  },
  {
   "cell_type": "code",
   "execution_count": 48,
   "metadata": {},
   "outputs": [
    {
     "name": "stdout",
     "output_type": "stream",
     "text": [
      "                                                                 Moeda  \\\n",
      "1  NaN Bitcoin         BTC   39.000,7 $764,60B $31,31B  43,50%  -4,16%   \n",
      "2  NaN Ethereum        ETH   2.234,68 $268,00B $14,61B  20,29%  -6,12%   \n",
      "3  NaN Tether USDt     USDT  0,9999   $94,85B  $51,92B  72,14%  -0,01%   \n",
      "4  NaN BNB             BNB   297,2    $44,39B  $1,00B   1,39%   -5,05%   \n",
      "5  NaN Solana          SOL   80,12    $35,16B  $2,90B   4,02%   -8,66%   \n",
      "6  NaN XRP             XRP   0,5083   $27,64B  $1,32B   1,83%   -4,22%   \n",
      "7  NaN USDC            USDC  1,0008   $25,62B  $7,12B   9,90%       0%   \n",
      "8  NaN Lido Staked ETH stETH 2.224,49 $20,77B  $66,21M  0,09%   -6,40%   \n",
      "9  NaN Cardano         ADA   0,4598   $16,20B  $503,26M 0,70%   -6,36%   \n",
      "10 NaN Dogecoin        DOGE  0,077209 $11,03B  $682,76M 0,95%   -6,15%   \n",
      "\n",
      "                                                                  Valor  \n",
      "1  NaN Bitcoin         BTC   39.000,7 $764,60B $31,31B  43,50%   -9,01%  \n",
      "2  NaN Ethereum        ETH   2.234,68 $268,00B $14,61B  20,29%  -11,97%  \n",
      "3  NaN Tether USDt     USDT  0,9999   $94,85B  $51,92B  72,14%       0%  \n",
      "4  NaN BNB             BNB   297,2    $44,39B  $1,00B   1,39%    -6,59%  \n",
      "5  NaN Solana          SOL   80,12    $35,16B  $2,90B   4,02%   -16,40%  \n",
      "6  NaN XRP             XRP   0,5083   $27,64B  $1,32B   1,83%   -11,51%  \n",
      "7  NaN USDC            USDC  1,0008   $25,62B  $7,12B   9,90%    -0,02%  \n",
      "8  NaN Lido Staked ETH stETH 2.224,49 $20,77B  $66,21M  0,09%   -12,28%  \n",
      "9  NaN Cardano         ADA   0,4598   $16,20B  $503,26M 0,70%   -14,40%  \n",
      "10 NaN Dogecoin        DOGE  0,077209 $11,03B  $682,76M 0,95%    -5,82%  \n"
     ]
    }
   ],
   "source": [
    "#vamos pegar a tabela criada e dar um display nela. (criptomoedas.csv)\n",
    "\n",
    "import pandas as pd\n",
    "\n",
    "tabela = pd.read_csv('criptomoedas.csv')\n",
    "print(tabela)"
   ]
  },
  {
   "cell_type": "code",
   "execution_count": 51,
   "metadata": {},
   "outputs": [
    {
     "name": "stdout",
     "output_type": "stream",
     "text": [
      "   Moeda     Valor\n",
      "0    BTC  39.000,7\n",
      "1    ETH  2.234,68\n",
      "2   USDT    0,9999\n",
      "3    BNB     297,2\n",
      "4    SOL     80,12\n",
      "5    XRP    0,5083\n",
      "6   USDC    1,0008\n",
      "7  stETH  2.224,49\n",
      "8    ADA    0,4598\n",
      "9   DOGE  0,077209\n"
     ]
    }
   ],
   "source": [
    "#vamos coletar apenas as colunas de indice 2 e 3.\n",
    "\n",
    "tabela = pd.read_csv('criptomoedas.csv', usecols=[3, 4])\n",
    "print(tabela)"
   ]
  }
 ],
 "metadata": {
  "kernelspec": {
   "display_name": "Python 3",
   "language": "python",
   "name": "python3"
  },
  "language_info": {
   "codemirror_mode": {
    "name": "ipython",
    "version": 3
   },
   "file_extension": ".py",
   "mimetype": "text/x-python",
   "name": "python",
   "nbconvert_exporter": "python",
   "pygments_lexer": "ipython3",
   "version": "3.12.1"
  }
 },
 "nbformat": 4,
 "nbformat_minor": 2
}
